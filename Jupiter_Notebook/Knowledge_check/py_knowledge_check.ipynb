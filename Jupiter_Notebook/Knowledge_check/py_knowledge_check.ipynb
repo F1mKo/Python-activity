{
 "cells": [
  {
   "cell_type": "markdown",
   "metadata": {},
   "source": [
    "<center style=\"font-size: 26px\"> <b>Проверка уровня знаний Python</b></center>"
   ]
  },
  {
   "cell_type": "markdown",
   "metadata": {},
   "source": [
    "<center style=\"background-color: #ff9100; color: white; font-size: 16px\"><b>NumPy</b></center>"
   ]
  },
  {
   "cell_type": "code",
   "execution_count": 1,
   "metadata": {},
   "outputs": [],
   "source": [
    "# обеспечиваем совместимость с Python 2 и 3\n",
    "from __future__ import (absolute_import, division, print_function, unicode_literals)\n",
    "\n",
    "# отключаем предупреждения дистрибутива Anaconda\n",
    "import warnings\n",
    "warnings.simplefilter('ignore')"
   ]
  },
  {
   "cell_type": "markdown",
   "metadata": {},
   "source": [
    "### Практические задания:"
   ]
  },
  {
   "cell_type": "code",
   "execution_count": 2,
   "metadata": {},
   "outputs": [],
   "source": [
    "# Импортируем библиотеки NumPy и Pandas - при каждом запуске тетрадки, библиотеки нужно вновь импортировать\n",
    "import numpy as np\n",
    "import pandas as pd"
   ]
  },
  {
   "cell_type": "markdown",
   "metadata": {},
   "source": [
    "#### 1. Создание массивов\n",
    "Создайте и перемножьте одномерный и двумерный массивы при помощи библиотеки NumPy"
   ]
  },
  {
   "cell_type": "code",
   "execution_count": 3,
   "metadata": {},
   "outputs": [
    {
     "name": "stdout",
     "output_type": "stream",
     "text": [
      "[1. 2. 3. 4. 5.]\n",
      "[[ 1.  2.  3.  4.  5.]\n",
      " [ 6.  7.  8.  9. 10.]\n",
      " [11. 12. 13. 14. 15.]\n",
      " [16. 17. 18. 19. 20.]\n",
      " [21. 22. 23. 24. 25.]]\n",
      "[215. 230. 245. 260. 275.]\n"
     ]
    }
   ],
   "source": [
    "# ВАШ КОД ЗДЕСЬ\n",
    "n = 5\n",
    "ar1 = np.linspace(1, n, n)\n",
    "ar2 = np.linspace(1, pow(n,2), pow(n,2)).reshape(n, n)\n",
    "print(ar1)\n",
    "print(ar2)\n",
    "res = np.dot(ar1, ar2)\n",
    "print(res)"
   ]
  },
  {
   "cell_type": "markdown",
   "metadata": {},
   "source": [
    "#### 2. Методы создания массивов\n",
    "Создайте один и тот же массив 3-мя разными способами при помощи библиотеки NumPy"
   ]
  },
  {
   "cell_type": "code",
   "execution_count": 4,
   "metadata": {},
   "outputs": [
    {
     "name": "stdout",
     "output_type": "stream",
     "text": [
      "[[1. 2.]\n",
      " [3. 4.]\n",
      " [5. 6.]]\n",
      "[[1. 2.]\n",
      " [3. 4.]\n",
      " [5. 6.]]\n",
      "[[1. 2.]\n",
      " [3. 4.]\n",
      " [5. 6.]]\n"
     ]
    }
   ],
   "source": [
    "# ВАШ КОД ЗДЕСЬ\n",
    "list = [[1,2],[3,4],[5,6]]\n",
    "ar1 = np.array(list, dtype=\"float\")\n",
    "print(ar1)\n",
    "ar2 = np.linspace(1, 6, 6).reshape(3, 2)\n",
    "print(ar2)\n",
    "ar3 = ar2.copy()\n",
    "print(ar3)"
   ]
  },
  {
   "cell_type": "markdown",
   "metadata": {},
   "source": [
    "#### 3. Индексирование массивов\n",
    "\n",
    "Напишите код, производящий указанные в комментариях операции с массивами"
   ]
  },
  {
   "cell_type": "code",
   "execution_count": 5,
   "metadata": {},
   "outputs": [
    {
     "name": "stdout",
     "output_type": "stream",
     "text": [
      "[1]\n",
      "[0.93010374 0.22476385 0.68027766 0.35916162 0.31546612]\n",
      "[ 0  1 25 25 25 25  6  7  8  9]\n"
     ]
    }
   ],
   "source": [
    "a = np.diag(np.arange(3))  # Выделите значение = 1\n",
    "# ВАШ КОД ЗДЕСЬ\n",
    "res1 = a[a==1]\n",
    "print(res1)\n",
    "\n",
    "b = np.random.rand(5, 5)  # Выделите первую строку\n",
    "# ВАШ КОД ЗДЕСЬ\n",
    "res2 = b[0,:]\n",
    "print(res2)\n",
    "c = np.arange(10) # Присвойте значение = 25 элементам массива с 3 по 6 включительно\n",
    "# ВАШ КОД ЗДЕСЬ\n",
    "c[2:6] = 25\n",
    "print(c)"
   ]
  },
  {
   "cell_type": "markdown",
   "metadata": {},
   "source": [
    "#### 4. Индексирование масками\n",
    "\n",
    "Выберите из предоставленного массива значения, делящиеся на 3 без остатка, и присвойте им значение = 10  "
   ]
  },
  {
   "cell_type": "code",
   "execution_count": 6,
   "metadata": {},
   "outputs": [
    {
     "name": "stdout",
     "output_type": "stream",
     "text": [
      "[10  3  8  0 19 10 11  9 10  6  0 20 12  7 14]\n",
      "[10 10  8 10 19 10 11 10 10 10 10 20 10  7 14]\n"
     ]
    }
   ],
   "source": [
    "np.random.seed(3)\n",
    "a = np.random.random_integers(0, 20, 15)  # предоставленный массив\n",
    "\n",
    "# ВАШ КОД ЗДЕСЬ\n",
    "print(a)\n",
    "a[a % 3 == 0] = 10\n",
    "print(a)"
   ]
  },
  {
   "cell_type": "markdown",
   "metadata": {},
   "source": [
    "#### 5. Меры центральной тенденции и меры вариации\n",
    "\n",
    "Напишите код, находящий указанные в комментариях значения"
   ]
  },
  {
   "cell_type": "code",
   "execution_count": 7,
   "metadata": {},
   "outputs": [
    {
     "name": "stdout",
     "output_type": "stream",
     "text": [
      "10.0\n",
      "15.0\n",
      "[ 0.          1.11111111  3.33333333  6.66666667 11.11111111 16.66666667\n",
      " 23.33333333 31.11111111 40.         50.        ]\n"
     ]
    }
   ],
   "source": [
    "a = np.linspace(0, 20, 5)  # Найти среднее арифметическое массива\n",
    "# ВАШ КОД ЗДЕСЬ\n",
    "res1 = np.mean(a)\n",
    "print(res1) # or a.mean() \n",
    "b = np.linspace(0, 30, 10)  # Найти медианное значение массива\n",
    "# ВАШ КОД ЗДЕСЬ\n",
    "res2 = np.median(b)\n",
    "print(res2)\n",
    "c = np.linspace(0, 10, 10)  # Найти кумулятивную сумму элементов массива\n",
    "# ВАШ КОД ЗДЕСЬ\n",
    "res3 = c.cumsum()\n",
    "print(res3)"
   ]
  },
  {
   "cell_type": "markdown",
   "metadata": {},
   "source": [
    "<center style=\"background-color: #ff9100; color: white; font-size: 16px\"><b>Pandas</b></center>"
   ]
  },
  {
   "cell_type": "markdown",
   "metadata": {},
   "source": [
    "#### 6. Чтение и первичная информация о файле\n",
    "Выведите первые 15 значений (строк) получившегося датафрейма "
   ]
  },
  {
   "cell_type": "code",
   "execution_count": 8,
   "metadata": {
    "scrolled": true
   },
   "outputs": [
    {
     "name": "stdout",
     "output_type": "stream",
     "text": [
      "    age          workclass  fnlwgt      education  education-num  \\\n",
      "0    39          State-gov   77516      Bachelors             13   \n",
      "1    50   Self-emp-not-inc   83311      Bachelors             13   \n",
      "2    38            Private  215646        HS-grad              9   \n",
      "3    53            Private  234721           11th              7   \n",
      "4    28            Private  338409      Bachelors             13   \n",
      "5    37            Private  284582        Masters             14   \n",
      "6    49            Private  160187            9th              5   \n",
      "7    52   Self-emp-not-inc  209642        HS-grad              9   \n",
      "8    31            Private   45781        Masters             14   \n",
      "9    42            Private  159449      Bachelors             13   \n",
      "10   37            Private  280464   Some-college             10   \n",
      "11   30          State-gov  141297      Bachelors             13   \n",
      "12   23            Private  122272      Bachelors             13   \n",
      "13   32            Private  205019     Assoc-acdm             12   \n",
      "14   40            Private  121772      Assoc-voc             11   \n",
      "\n",
      "            marital-status          occupation    relationship  \\\n",
      "0            Never-married        Adm-clerical   Not-in-family   \n",
      "1       Married-civ-spouse     Exec-managerial         Husband   \n",
      "2                 Divorced   Handlers-cleaners   Not-in-family   \n",
      "3       Married-civ-spouse   Handlers-cleaners         Husband   \n",
      "4       Married-civ-spouse      Prof-specialty            Wife   \n",
      "5       Married-civ-spouse     Exec-managerial            Wife   \n",
      "6    Married-spouse-absent       Other-service   Not-in-family   \n",
      "7       Married-civ-spouse     Exec-managerial         Husband   \n",
      "8            Never-married      Prof-specialty   Not-in-family   \n",
      "9       Married-civ-spouse     Exec-managerial         Husband   \n",
      "10      Married-civ-spouse     Exec-managerial         Husband   \n",
      "11      Married-civ-spouse      Prof-specialty         Husband   \n",
      "12           Never-married        Adm-clerical       Own-child   \n",
      "13           Never-married               Sales   Not-in-family   \n",
      "14      Married-civ-spouse        Craft-repair         Husband   \n",
      "\n",
      "                   race      sex  capital-gain  capital-loss  hours-per-week  \\\n",
      "0                 White     Male          2174             0              40   \n",
      "1                 White     Male             0             0              13   \n",
      "2                 White     Male             0             0              40   \n",
      "3                 Black     Male             0             0              40   \n",
      "4                 Black   Female             0             0              40   \n",
      "5                 White   Female             0             0              40   \n",
      "6                 Black   Female             0             0              16   \n",
      "7                 White     Male             0             0              45   \n",
      "8                 White   Female         14084             0              50   \n",
      "9                 White     Male          5178             0              40   \n",
      "10                Black     Male             0             0              80   \n",
      "11   Asian-Pac-Islander     Male             0             0              40   \n",
      "12                White   Female             0             0              30   \n",
      "13                Black     Male             0             0              50   \n",
      "14   Asian-Pac-Islander     Male             0             0              40   \n",
      "\n",
      "    native-country  salary  \n",
      "0    United-States   <=50K  \n",
      "1    United-States   <=50K  \n",
      "2    United-States   <=50K  \n",
      "3    United-States   <=50K  \n",
      "4             Cuba   <=50K  \n",
      "5    United-States   <=50K  \n",
      "6          Jamaica   <=50K  \n",
      "7    United-States    >50K  \n",
      "8    United-States    >50K  \n",
      "9    United-States    >50K  \n",
      "10   United-States    >50K  \n",
      "11           India    >50K  \n",
      "12   United-States   <=50K  \n",
      "13   United-States   <=50K  \n",
      "14               ?    >50K  \n"
     ]
    }
   ],
   "source": [
    "df = pd.read_csv('adult.data', header=None)\n",
    "df.columns = ['age', 'workclass', 'fnlwgt', 'education', 'education-num', 'marital-status', 'occupation', 'relationship', 'race', 'sex', \n",
    "'capital-gain', 'capital-loss', 'hours-per-week', 'native-country', 'salary']\n",
    "# ВАШ КОД ЗДЕСЬ\n",
    "print(df[:15])"
   ]
  },
  {
   "cell_type": "markdown",
   "metadata": {},
   "source": [
    "Каждая строка данного фрейма - это участник социологического опроса, проведённого в Америке "
   ]
  },
  {
   "cell_type": "markdown",
   "metadata": {},
   "source": [
    "#### 7. Индексация с условием\n",
    "Вынесите в новый датафрейм с названием df_work мужчин (признак *sex*) старше 35 (признак *age*)  "
   ]
  },
  {
   "cell_type": "code",
   "execution_count": 9,
   "metadata": {
    "scrolled": true
   },
   "outputs": [
    {
     "name": "stdout",
     "output_type": "stream",
     "text": [
      "[' Male' ' Female']\n",
      "       age          workclass  fnlwgt      education  education-num  \\\n",
      "0       39          State-gov   77516      Bachelors             13   \n",
      "1       50   Self-emp-not-inc   83311      Bachelors             13   \n",
      "2       38            Private  215646        HS-grad              9   \n",
      "3       53            Private  234721           11th              7   \n",
      "7       52   Self-emp-not-inc  209642        HS-grad              9   \n",
      "...    ...                ...     ...            ...            ...   \n",
      "32548   65   Self-emp-not-inc   99359    Prof-school             15   \n",
      "32550   43   Self-emp-not-inc   27242   Some-college             10   \n",
      "32552   43            Private   84661      Assoc-voc             11   \n",
      "32554   53            Private  321865        Masters             14   \n",
      "32557   40            Private  154374        HS-grad              9   \n",
      "\n",
      "            marital-status          occupation    relationship    race    sex  \\\n",
      "0            Never-married        Adm-clerical   Not-in-family   White   Male   \n",
      "1       Married-civ-spouse     Exec-managerial         Husband   White   Male   \n",
      "2                 Divorced   Handlers-cleaners   Not-in-family   White   Male   \n",
      "3       Married-civ-spouse   Handlers-cleaners         Husband   Black   Male   \n",
      "7       Married-civ-spouse     Exec-managerial         Husband   White   Male   \n",
      "...                    ...                 ...             ...     ...    ...   \n",
      "32548        Never-married      Prof-specialty   Not-in-family   White   Male   \n",
      "32550   Married-civ-spouse        Craft-repair         Husband   White   Male   \n",
      "32552   Married-civ-spouse               Sales         Husband   White   Male   \n",
      "32554   Married-civ-spouse     Exec-managerial         Husband   White   Male   \n",
      "32557   Married-civ-spouse   Machine-op-inspct         Husband   White   Male   \n",
      "\n",
      "       capital-gain  capital-loss  hours-per-week  native-country  salary  \n",
      "0              2174             0              40   United-States   <=50K  \n",
      "1                 0             0              13   United-States   <=50K  \n",
      "2                 0             0              40   United-States   <=50K  \n",
      "3                 0             0              40   United-States   <=50K  \n",
      "7                 0             0              45   United-States    >50K  \n",
      "...             ...           ...             ...             ...     ...  \n",
      "32548          1086             0              60   United-States   <=50K  \n",
      "32550             0             0              50   United-States   <=50K  \n",
      "32552             0             0              45   United-States   <=50K  \n",
      "32554             0             0              40   United-States    >50K  \n",
      "32557             0             0              40   United-States    >50K  \n",
      "\n",
      "[12419 rows x 15 columns]\n"
     ]
    }
   ],
   "source": [
    "# ВАШ КОД ЗДЕСЬ\n",
    "res = df['sex'].unique()\n",
    "print(res)\n",
    "df_work = df[(df['sex'] == ' Male') & (df['age'] > 35)]\n",
    "print(df_work)"
   ]
  },
  {
   "cell_type": "markdown",
   "metadata": {},
   "source": [
    "#### 8. Группировка и меры центральной тенденции \n",
    "Сгруппируйте всех опрошенных по уровню образования (признак *education*) и найдите среднее значение по каждому из числовых (type = int) столбцов в каждой из получившихся групп"
   ]
  },
  {
   "cell_type": "code",
   "execution_count": 10,
   "metadata": {},
   "outputs": [
    {
     "name": "stdout",
     "output_type": "stream",
     "text": [
      "Edu level=  10th\n",
      "age                   37.429796\n",
      "fnlwgt            196832.465166\n",
      "education-num          6.000000\n",
      "capital-gain         404.574491\n",
      "capital-loss          56.845659\n",
      "hours-per-week        37.052519\n",
      "dtype: float64\n",
      "Edu level=  11th\n",
      "age                   32.355745\n",
      "fnlwgt            194928.077447\n",
      "education-num          7.000000\n",
      "capital-gain         215.097872\n",
      "capital-loss          50.079149\n",
      "hours-per-week        33.925957\n",
      "dtype: float64\n",
      "Edu level=  12th\n",
      "age                   32.000000\n",
      "fnlwgt            199097.508083\n",
      "education-num          8.000000\n",
      "capital-gain         284.087760\n",
      "capital-loss          32.337182\n",
      "hours-per-week        35.780600\n",
      "dtype: float64\n",
      "Edu level=  1st-4th\n",
      "age                   46.142857\n",
      "fnlwgt            239303.000000\n",
      "education-num          2.000000\n",
      "capital-gain         125.875000\n",
      "capital-loss          48.327381\n",
      "hours-per-week        38.255952\n",
      "dtype: float64\n",
      "Edu level=  5th-6th\n",
      "age                   42.885886\n",
      "fnlwgt            232448.333333\n",
      "education-num          3.000000\n",
      "capital-gain         176.021021\n",
      "capital-loss          68.252252\n",
      "hours-per-week        38.897898\n",
      "dtype: float64\n",
      "Edu level=  7th-8th\n",
      "age                   48.445820\n",
      "fnlwgt            188079.171827\n",
      "education-num          4.000000\n",
      "capital-gain         233.939628\n",
      "capital-loss          65.668731\n",
      "hours-per-week        39.366873\n",
      "dtype: float64\n",
      "Edu level=  9th\n",
      "age                   41.060311\n",
      "fnlwgt            202485.066148\n",
      "education-num          5.000000\n",
      "capital-gain         342.089494\n",
      "capital-loss          28.998054\n",
      "hours-per-week        38.044747\n",
      "dtype: float64\n",
      "Edu level=  Assoc-acdm\n",
      "age                   37.381443\n",
      "fnlwgt            193424.093721\n",
      "education-num         12.000000\n",
      "capital-gain         640.399250\n",
      "capital-loss          93.418932\n",
      "hours-per-week        40.504217\n",
      "dtype: float64\n",
      "Edu level=  Assoc-voc\n",
      "age                   38.553546\n",
      "fnlwgt            181936.016643\n",
      "education-num         11.000000\n",
      "capital-gain         715.051375\n",
      "capital-loss          72.754703\n",
      "hours-per-week        41.610709\n",
      "dtype: float64\n",
      "Edu level=  Bachelors\n",
      "age                   38.904949\n",
      "fnlwgt            188055.914846\n",
      "education-num         13.000000\n",
      "capital-gain        1756.299533\n",
      "capital-loss         118.350327\n",
      "hours-per-week        42.614006\n",
      "dtype: float64\n",
      "Edu level=  Doctorate\n",
      "age                   47.702179\n",
      "fnlwgt            186698.760291\n",
      "education-num         16.000000\n",
      "capital-gain        4770.145278\n",
      "capital-loss         262.845036\n",
      "hours-per-week        46.973366\n",
      "dtype: float64\n",
      "Edu level=  HS-grad\n",
      "age                   38.974479\n",
      "fnlwgt            189538.739739\n",
      "education-num          9.000000\n",
      "capital-gain         576.800114\n",
      "capital-loss          70.466622\n",
      "hours-per-week        40.575374\n",
      "dtype: float64\n",
      "Edu level=  Masters\n",
      "age                   44.049913\n",
      "fnlwgt            179852.362739\n",
      "education-num         14.000000\n",
      "capital-gain        2562.563552\n",
      "capital-loss         166.719675\n",
      "hours-per-week        43.836332\n",
      "dtype: float64\n",
      "Edu level=  Preschool\n",
      "age                   42.764706\n",
      "fnlwgt            235889.372549\n",
      "education-num          1.000000\n",
      "capital-gain         898.392157\n",
      "capital-loss          66.490196\n",
      "hours-per-week        36.647059\n",
      "dtype: float64\n",
      "Edu level=  Prof-school\n",
      "age                   44.746528\n",
      "fnlwgt            185663.706597\n",
      "education-num         15.000000\n",
      "capital-gain       10414.416667\n",
      "capital-loss         231.203125\n",
      "hours-per-week        47.425347\n",
      "dtype: float64\n",
      "Edu level=  Some-college\n",
      "age                   35.756275\n",
      "fnlwgt            188742.922370\n",
      "education-num         10.000000\n",
      "capital-gain         598.824167\n",
      "capital-loss          71.637087\n",
      "hours-per-week        38.852284\n",
      "dtype: float64\n"
     ]
    }
   ],
   "source": [
    "# ВАШ КОД ЗДЕСЬ\n",
    "for level, df_level in df.groupby('education'):\n",
    "    print('Edu level=', level)\n",
    "    print(df_level.mean(axis=0))"
   ]
  },
  {
   "cell_type": "markdown",
   "metadata": {},
   "source": [
    "#### 9. Объединения и слияния\n",
    "Объедините имеющийся датафрейм adult.data с прописанными ниже df_2 (новая колонка) и df_3 (новая строка), затем отсортируйте по признаку *age*"
   ]
  },
  {
   "cell_type": "code",
   "execution_count": 11,
   "metadata": {},
   "outputs": [
    {
     "name": "stdout",
     "output_type": "stream",
     "text": [
      "       age  capital-gain  capital-loss     education  education-num  fnlwgt  \\\n",
      "20299   17             0             0          10th              6  147339   \n",
      "21888   17             0             0          12th              8  171080   \n",
      "609     17             0             0          10th              6  169658   \n",
      "25723   17             0             0          10th              6  347322   \n",
      "3605    17          1055             0          10th              6  130125   \n",
      "...    ...           ...           ...           ...            ...     ...   \n",
      "24043   90          2964             0       HS-grad              9   82628   \n",
      "25303   90             0             0       7th-8th              4  175444   \n",
      "19489   90             0             0       HS-grad              9   84553   \n",
      "8806    90         20051             0   Prof-school             15   87372   \n",
      "8963    90             0          4356       HS-grad              9   77053   \n",
      "\n",
      "       hours-per-week       marital-status  native-country  \\\n",
      "20299              15        Never-married   United-States   \n",
      "21888              20        Never-married   United-States   \n",
      "609                21        Never-married   United-States   \n",
      "25723              20        Never-married   United-States   \n",
      "3605               20        Never-married   United-States   \n",
      "...               ...                  ...             ...   \n",
      "24043              12        Never-married   United-States   \n",
      "25303              15            Separated   United-States   \n",
      "19489              40   Married-civ-spouse   United-States   \n",
      "8806               72   Married-civ-spouse   United-States   \n",
      "8963               40              Widowed   United-States   \n",
      "\n",
      "               occupation                 race  random_column    relationship  \\\n",
      "20299      Prof-specialty                Other       0.912815       Own-child   \n",
      "21888   Handlers-cleaners                White       0.427389       Own-child   \n",
      "609         Other-service                White       0.214143       Own-child   \n",
      "25723               Sales                White       0.451463       Own-child   \n",
      "3605        Other-service   Amer-Indian-Eskimo       0.796610       Own-child   \n",
      "...                   ...                  ...            ...             ...   \n",
      "24043     Exec-managerial                White       0.919460   Not-in-family   \n",
      "25303                   ?                White       0.269962   Not-in-family   \n",
      "19489   Machine-op-inspct                White       0.605104         Husband   \n",
      "8806       Prof-specialty                White       0.371434         Husband   \n",
      "8963                    ?                White       0.925067   Not-in-family   \n",
      "\n",
      "       salary      sex          workclass  \n",
      "20299   <=50K   Female            Private  \n",
      "21888   <=50K     Male            Private  \n",
      "609     <=50K   Female            Private  \n",
      "25723   <=50K   Female            Private  \n",
      "3605    <=50K   Female            Private  \n",
      "...       ...      ...                ...  \n",
      "24043   <=50K     Male   Self-emp-not-inc  \n",
      "25303   <=50K   Female                  ?  \n",
      "19489   <=50K     Male            Private  \n",
      "8806     >50K     Male            Private  \n",
      "8963    <=50K   Female                  ?  \n",
      "\n",
      "[32562 rows x 16 columns]\n"
     ]
    }
   ],
   "source": [
    "df_2 = pd.DataFrame({'random_column': np.random.rand(32561)})\n",
    "df_3 = pd.DataFrame({'age': 40, 'workclass': 'Self-emp-not-inc', 'fnlwgt': 135415, 'education': 'Some-college', 'education-num': 10, 'marital-status': 'Married-civ-spouse', 'occupation': 'Other-service', 'relationship': 'Wife', 'race': 'White', 'sex': 'Female', 'capital-gain': 0, 'capital-loss': 0, 'hours-per-week': 5, 'native-country': 'United-States', 'salary': '<=50K'}, index=[32562])\n",
    "\n",
    "# ВАШ КОД ЗДЕСЬ\n",
    "df_new = pd.concat([pd.concat([df,df_2],axis = 1),df_3], axis = 0)\n",
    "\n",
    "print(df_new.sort_values('age'))\n"
   ]
  },
  {
   "cell_type": "markdown",
   "metadata": {},
   "source": [
    "#### 10. Применение функций \n",
    "Замените каждое значение в каждом из числовых (type = int) столбцов на среднеквадратичное отклонение по этому столбцу"
   ]
  },
  {
   "cell_type": "code",
   "execution_count": 12,
   "metadata": {},
   "outputs": [
    {
     "name": "stdout",
     "output_type": "stream",
     "text": [
      "              age  capital-gain   capital-loss     education  education-num  \\\n",
      "0      186.055748  5.454090e+07  162372.185035     Bachelors       6.618687   \n",
      "1      186.055748  5.454090e+07  162372.185035     Bachelors       6.618687   \n",
      "2      186.055748  5.454090e+07  162372.185035       HS-grad       6.618687   \n",
      "3      186.055748  5.454090e+07  162372.185035          11th       6.618687   \n",
      "4      186.055748  5.454090e+07  162372.185035     Bachelors       6.618687   \n",
      "...           ...           ...            ...           ...            ...   \n",
      "32557  186.055748  5.454090e+07  162372.185035       HS-grad       6.618687   \n",
      "32558  186.055748  5.454090e+07  162372.185035       HS-grad       6.618687   \n",
      "32559  186.055748  5.454090e+07  162372.185035       HS-grad       6.618687   \n",
      "32560  186.055748  5.454090e+07  162372.185035       HS-grad       6.618687   \n",
      "32562  186.055748  5.454090e+07  162372.185035  Some-college       6.618687   \n",
      "\n",
      "             fnlwgt  hours-per-week       marital-status  native-country  \\\n",
      "0      1.114055e+10       152.49288        Never-married   United-States   \n",
      "1      1.114055e+10       152.49288   Married-civ-spouse   United-States   \n",
      "2      1.114055e+10       152.49288             Divorced   United-States   \n",
      "3      1.114055e+10       152.49288   Married-civ-spouse   United-States   \n",
      "4      1.114055e+10       152.49288   Married-civ-spouse            Cuba   \n",
      "...             ...             ...                  ...             ...   \n",
      "32557  1.114055e+10       152.49288   Married-civ-spouse   United-States   \n",
      "32558  1.114055e+10       152.49288              Widowed   United-States   \n",
      "32559  1.114055e+10       152.49288        Never-married   United-States   \n",
      "32560  1.114055e+10       152.49288   Married-civ-spouse   United-States   \n",
      "32562  1.114055e+10       152.49288   Married-civ-spouse   United-States   \n",
      "\n",
      "               occupation    race  random_column    relationship  salary  \\\n",
      "0            Adm-clerical   White       0.649144   Not-in-family   <=50K   \n",
      "1         Exec-managerial   White       0.278487         Husband   <=50K   \n",
      "2       Handlers-cleaners   White       0.676255   Not-in-family   <=50K   \n",
      "3       Handlers-cleaners   Black       0.590863         Husband   <=50K   \n",
      "4          Prof-specialty   Black       0.023982            Wife   <=50K   \n",
      "...                   ...     ...            ...             ...     ...   \n",
      "32557   Machine-op-inspct   White       0.581253         Husband    >50K   \n",
      "32558        Adm-clerical   White       0.118509       Unmarried   <=50K   \n",
      "32559        Adm-clerical   White       0.844841       Own-child   <=50K   \n",
      "32560     Exec-managerial   White       0.324979            Wife    >50K   \n",
      "32562       Other-service   White            NaN            Wife   <=50K   \n",
      "\n",
      "           sex          workclass  \n",
      "0         Male          State-gov  \n",
      "1         Male   Self-emp-not-inc  \n",
      "2         Male            Private  \n",
      "3         Male            Private  \n",
      "4       Female            Private  \n",
      "...        ...                ...  \n",
      "32557     Male            Private  \n",
      "32558   Female            Private  \n",
      "32559     Male            Private  \n",
      "32560   Female       Self-emp-inc  \n",
      "32562   Female   Self-emp-not-inc  \n",
      "\n",
      "[32562 rows x 16 columns]\n"
     ]
    }
   ],
   "source": [
    "# ВАШ КОД ЗДЕСЬ\n",
    "#print(df.dtypes)\n",
    "int_columns = ['age', 'fnlwgt','education-num', 'capital-gain', 'capital-loss', 'hours-per-week']\n",
    "for column in int_columns:\n",
    "    df_new[column] = df_new[column].var()\n",
    "print(df_new)"
   ]
  },
  {
   "cell_type": "markdown",
   "metadata": {},
   "source": [
    "<center style=\"background-color: #ff9100; color: white; font-size: 16px\"><b>EDA по доходу населения UCI Adult</b></center>"
   ]
  },
  {
   "cell_type": "markdown",
   "metadata": {},
   "source": [
    "### Практические задания:"
   ]
  },
  {
   "cell_type": "markdown",
   "metadata": {},
   "source": [
    "#### Обновляем файл adult.data.csv и решаем задания ниже на нём"
   ]
  },
  {
   "cell_type": "code",
   "execution_count": 13,
   "metadata": {},
   "outputs": [],
   "source": [
    "df = pd.read_csv('https://archive.ics.uci.edu/ml/machine-learning-databases/adult/adult.data', header=None)\n",
    "df.columns = ['age', 'workclass', 'fnlwgt', 'education', 'education-num', 'marital-status', 'occupation', 'relationship', 'race', 'sex', \n",
    "'capital-gain', 'capital-loss', 'hours-per-week', 'native-country', 'salary']"
   ]
  },
  {
   "cell_type": "markdown",
   "metadata": {},
   "source": [
    "Уникальные значения признаков в датафрейме:\n",
    "- age: continuous.\n",
    "- workclass: Private, Self-emp-not-inc, Self-emp-inc, Federal-gov, Local-gov, State-gov, Without-pay, Never-worked.\n",
    "- fnlwgt: continuous.\n",
    "- education: Bachelors, Some-college, 11th, HS-grad, Prof-school, Assoc-acdm, Assoc-voc, 9th, 7th-8th, 12th, Masters, 1st-4th, 10th, Doctorate, 5th-6th, Preschool.\n",
    "- education-num: continuous.\n",
    "- marital-status: Married-civ-spouse, Divorced, Never-married, Separated, Widowed, Married-spouse-absent, Married-AF-spouse.\n",
    "- occupation: Tech-support, Craft-repair, Other-service, Sales, Exec-managerial, Prof-specialty, Handlers-cleaners, Machine-op-inspct, Adm-clerical, Farming-fishing, Transport-moving, Priv-house-serv, Protective-serv, Armed-Forces.\n",
    "- relationship: Wife, Own-child, Husband, Not-in-family, Other-relative, Unmarried.\n",
    "- race: White, Asian-Pac-Islander, Amer-Indian-Eskimo, Other, Black.\n",
    "- sex: Female, Male.\n",
    "- capital-gain: continuous.\n",
    "- capital-loss: continuous.\n",
    "- hours-per-week: continuous.\n",
    "- native-country: United-States, Cambodia, England, Puerto-Rico, Canada, Germany, Outlying-US(Guam-USVI-etc), India, Japan, Greece, South, China, Cuba, Iran, Honduras, Philippines, Italy, Poland, Jamaica, Vietnam, Mexico, Portugal, Ireland, France, Dominican-Republic, Laos, Ecuador, Taiwan, Haiti, Columbia, Hungary, Guatemala, Nicaragua, Scotland, Thailand, Yugoslavia, El-Salvador, Trinadad&Tobago, Peru, Hong, Holand-Netherlands.   \n",
    "- salary: >50K,<=50K"
   ]
  },
  {
   "cell_type": "markdown",
   "metadata": {},
   "source": [
    "#### 11. Каков средний возраст (признак *age*) мужчин?"
   ]
  },
  {
   "cell_type": "code",
   "execution_count": 14,
   "metadata": {},
   "outputs": [
    {
     "name": "stdout",
     "output_type": "stream",
     "text": [
      "39.43354749885268\n"
     ]
    }
   ],
   "source": [
    "# ВАШ КОД ЗДЕСЬ\n",
    "result1 = df[df['sex'] == ' Male'].age.mean()\n",
    "print(result1)"
   ]
  },
  {
   "cell_type": "markdown",
   "metadata": {},
   "source": [
    "**12. Каковы средние значения и среднеквадратичные отклонения возраста тех, кто получает более 50K в год (признак *salary*) и тех, кто получает менее 50K в год?**"
   ]
  },
  {
   "cell_type": "code",
   "execution_count": 15,
   "metadata": {},
   "outputs": [
    {
     "name": "stdout",
     "output_type": "stream",
     "text": [
      " <=50K : 36.78373786407767 196.5628812905584\n",
      " >50K : 44.24984058155847 110.64994417100995\n"
     ]
    }
   ],
   "source": [
    "# ВАШ КОД ЗДЕСЬ\n",
    "for value in df['salary'].unique():\n",
    "    print(value+\" :\", df[df['salary'] == value].age.mean(), df[df['salary'] == value].age.var())\n"
   ]
  },
  {
   "cell_type": "markdown",
   "metadata": {},
   "source": [
    "**13. Найдите таким образом максимальный возраст мужчин расы *Amer-Indian-Eskimo*.**"
   ]
  },
  {
   "cell_type": "code",
   "execution_count": 16,
   "metadata": {},
   "outputs": [
    {
     "name": "stdout",
     "output_type": "stream",
     "text": [
      "82\n"
     ]
    }
   ],
   "source": [
    "# ВАШ КОД ЗДЕСЬ\n",
    "result3 = df[(df['sex']==' Male') & (df['race']== ' Amer-Indian-Eskimo')].age.max()\n",
    "print(result3)"
   ]
  },
  {
   "cell_type": "markdown",
   "metadata": {},
   "source": [
    "**14. Какое максимальное число часов человек работает в неделю (признак *hours-per-week*)? Сколько людей работают такое количество часов и каков среди них процент зарабатывающих много (*salary* >50k)?**"
   ]
  },
  {
   "cell_type": "code",
   "execution_count": 17,
   "metadata": {},
   "outputs": [
    {
     "name": "stdout",
     "output_type": "stream",
     "text": [
      "hours_per_week_max =  99\n",
      "Number of max h-p-w people =  85\n",
      "also get salary >50K :  29.41176470588235 %\n"
     ]
    }
   ],
   "source": [
    "# ВАШ КОД ЗДЕСЬ\n",
    "print('hours_per_week_max = ', df['hours-per-week'].max())\n",
    "count_peoples = df[df['hours-per-week'] == df['hours-per-week'].max()].shape[0]\n",
    "print('Number of max h-p-w people = ', count_peoples)\n",
    "print('also get salary >50K : ',df[(df['hours-per-week'] == df['hours-per-week'].max()) & (df['salary'] == ' >50K')].shape[0] * 100 / count_peoples, '%')\n"
   ]
  },
  {
   "cell_type": "markdown",
   "metadata": {},
   "source": [
    "**15. Посчитайте среднее время работы (*hours-per-week*) зарабатывающих мало и много (*salary*) для каждой страны (*native-country*).**"
   ]
  },
  {
   "cell_type": "code",
   "execution_count": 18,
   "metadata": {},
   "outputs": [
    {
     "name": "stdout",
     "output_type": "stream",
     "text": [
      " United-States\n",
      "hours-per-week for people with small salary : 38.79912723305605\n",
      "hours-per-week for people with big salary : 45.50536884674383\n",
      " Cuba\n",
      "hours-per-week for people with small salary : 37.98571428571429\n",
      "hours-per-week for people with big salary : 42.44\n",
      " Jamaica\n",
      "hours-per-week for people with small salary : 38.23943661971831\n",
      "hours-per-week for people with big salary : 41.1\n",
      " India\n",
      "hours-per-week for people with small salary : 38.233333333333334\n",
      "hours-per-week for people with big salary : 46.475\n",
      " ?\n",
      "hours-per-week for people with small salary : 40.16475972540046\n",
      "hours-per-week for people with big salary : 45.54794520547945\n",
      " Mexico\n",
      "hours-per-week for people with small salary : 40.00327868852459\n",
      "hours-per-week for people with big salary : 46.57575757575758\n",
      " South\n",
      "hours-per-week for people with small salary : 40.15625\n",
      "hours-per-week for people with big salary : 51.4375\n",
      " Puerto-Rico\n",
      "hours-per-week for people with small salary : 38.470588235294116\n",
      "hours-per-week for people with big salary : 39.416666666666664\n",
      " Honduras\n",
      "hours-per-week for people with small salary : 34.333333333333336\n",
      "hours-per-week for people with big salary : 60.0\n",
      " England\n",
      "hours-per-week for people with small salary : 40.483333333333334\n",
      "hours-per-week for people with big salary : 44.53333333333333\n",
      " Canada\n",
      "hours-per-week for people with small salary : 37.91463414634146\n",
      "hours-per-week for people with big salary : 45.64102564102564\n",
      " Germany\n",
      "hours-per-week for people with small salary : 39.13978494623656\n",
      "hours-per-week for people with big salary : 44.97727272727273\n",
      " Iran\n",
      "hours-per-week for people with small salary : 41.44\n",
      "hours-per-week for people with big salary : 47.5\n",
      " Philippines\n",
      "hours-per-week for people with small salary : 38.065693430656935\n",
      "hours-per-week for people with big salary : 43.032786885245905\n",
      " Italy\n",
      "hours-per-week for people with small salary : 39.625\n",
      "hours-per-week for people with big salary : 45.4\n",
      " Poland\n",
      "hours-per-week for people with small salary : 38.166666666666664\n",
      "hours-per-week for people with big salary : 39.0\n",
      " Columbia\n",
      "hours-per-week for people with small salary : 38.68421052631579\n",
      "hours-per-week for people with big salary : 50.0\n",
      " Cambodia\n",
      "hours-per-week for people with small salary : 41.416666666666664\n",
      "hours-per-week for people with big salary : 40.0\n",
      " Thailand\n",
      "hours-per-week for people with small salary : 42.86666666666667\n",
      "hours-per-week for people with big salary : 58.333333333333336\n",
      " Ecuador\n",
      "hours-per-week for people with small salary : 38.041666666666664\n",
      "hours-per-week for people with big salary : 48.75\n",
      " Laos\n",
      "hours-per-week for people with small salary : 40.375\n",
      "hours-per-week for people with big salary : 40.0\n",
      " Taiwan\n",
      "hours-per-week for people with small salary : 33.774193548387096\n",
      "hours-per-week for people with big salary : 46.8\n",
      " Haiti\n",
      "hours-per-week for people with small salary : 36.325\n",
      "hours-per-week for people with big salary : 42.75\n",
      " Portugal\n",
      "hours-per-week for people with small salary : 41.93939393939394\n",
      "hours-per-week for people with big salary : 41.5\n",
      " Dominican-Republic\n",
      "hours-per-week for people with small salary : 42.338235294117645\n",
      "hours-per-week for people with big salary : 47.0\n",
      " El-Salvador\n",
      "hours-per-week for people with small salary : 36.03092783505155\n",
      "hours-per-week for people with big salary : 45.0\n",
      " France\n",
      "hours-per-week for people with small salary : 41.05882352941177\n",
      "hours-per-week for people with big salary : 50.75\n",
      " Guatemala\n",
      "hours-per-week for people with small salary : 39.36065573770492\n",
      "hours-per-week for people with big salary : 36.666666666666664\n",
      " China\n",
      "hours-per-week for people with small salary : 37.38181818181818\n",
      "hours-per-week for people with big salary : 38.9\n",
      " Japan\n",
      "hours-per-week for people with small salary : 41.0\n",
      "hours-per-week for people with big salary : 47.958333333333336\n",
      " Yugoslavia\n",
      "hours-per-week for people with small salary : 41.6\n",
      "hours-per-week for people with big salary : 49.5\n",
      " Peru\n",
      "hours-per-week for people with small salary : 35.06896551724138\n",
      "hours-per-week for people with big salary : 40.0\n",
      " Outlying-US(Guam-USVI-etc)\n",
      "hours-per-week for people with small salary : 41.857142857142854\n",
      "hours-per-week for people with big salary : nan\n",
      " Scotland\n",
      "hours-per-week for people with small salary : 39.44444444444444\n",
      "hours-per-week for people with big salary : 46.666666666666664\n",
      " Trinadad&Tobago\n",
      "hours-per-week for people with small salary : 37.05882352941177\n",
      "hours-per-week for people with big salary : 40.0\n",
      " Greece\n",
      "hours-per-week for people with small salary : 41.80952380952381\n",
      "hours-per-week for people with big salary : 50.625\n",
      " Nicaragua\n",
      "hours-per-week for people with small salary : 36.09375\n",
      "hours-per-week for people with big salary : 37.5\n",
      " Vietnam\n",
      "hours-per-week for people with small salary : 37.193548387096776\n",
      "hours-per-week for people with big salary : 39.2\n",
      " Hong\n",
      "hours-per-week for people with small salary : 39.142857142857146\n",
      "hours-per-week for people with big salary : 45.0\n",
      " Ireland\n",
      "hours-per-week for people with small salary : 40.94736842105263\n",
      "hours-per-week for people with big salary : 48.0\n",
      " Hungary\n",
      "hours-per-week for people with small salary : 31.3\n",
      "hours-per-week for people with big salary : 50.0\n",
      " Holand-Netherlands\n",
      "hours-per-week for people with small salary : 40.0\n",
      "hours-per-week for people with big salary : nan\n"
     ]
    }
   ],
   "source": [
    "# ВАШ КОД ЗДЕСЬ\n",
    "for value in df['native-country'].unique():\n",
    "    print(value)\n",
    "    print('hours-per-week for people with small salary :', df[(df['salary'] == ' <=50K') & (df['native-country'] == value)]['hours-per-week'].mean())\n",
    "    print('hours-per-week for people with big salary :', df[(df['salary'] == ' >50K') & (df['native-country'] == value)]['hours-per-week'].mean())"
   ]
  },
  {
   "cell_type": "markdown",
   "metadata": {},
   "source": [
    "<center style=\"background-color: #ff9100; color: white; font-size: 16px\"><b>Анализ данных по доходу населения UCI Adult</b></center>"
   ]
  },
  {
   "cell_type": "markdown",
   "metadata": {},
   "source": [
    "Попробуйте написать модель, предсказывающую уровень дохода ('salary') людей на основе датасета UCI Adult.\n",
    "\n",
    "Напишите код: \n",
    "- для подготовки данных,\n",
    "- для обучения модели (одной или нескольких - решать Вам),\n",
    "- для оценки качества модели.\n",
    "\n",
    "Итоговый результат - модель + получившиеся метрики качества."
   ]
  },
  {
   "cell_type": "markdown",
   "metadata": {},
   "source": [
    "### Проведем предварительную обработку данных"
   ]
  },
  {
   "cell_type": "markdown",
   "metadata": {},
   "source": [
    "Загружаем датасет"
   ]
  },
  {
   "cell_type": "code",
   "execution_count": 19,
   "metadata": {},
   "outputs": [],
   "source": [
    "# ВАШ КОД ЗДЕСЬ\n",
    "df = pd.read_csv('https://archive.ics.uci.edu/ml/machine-learning-databases/adult/adult.data', header=None)\n",
    "df.columns = ['age', 'workclass', 'fnlwgt', 'education', 'education-num', 'marital-status', 'occupation', 'relationship', 'race', 'sex', \n",
    "'capital-gain', 'capital-loss', 'hours-per-week', 'native-country', 'salary']\n"
   ]
  },
  {
   "cell_type": "markdown",
   "metadata": {},
   "source": [
    "Определяем тип данных для каждого признака"
   ]
  },
  {
   "cell_type": "code",
   "execution_count": 20,
   "metadata": {},
   "outputs": [
    {
     "data": {
      "text/plain": [
       "age                int64\n",
       "workclass         object\n",
       "fnlwgt             int64\n",
       "education         object\n",
       "education-num      int64\n",
       "marital-status    object\n",
       "occupation        object\n",
       "relationship      object\n",
       "race              object\n",
       "sex               object\n",
       "capital-gain       int64\n",
       "capital-loss       int64\n",
       "hours-per-week     int64\n",
       "native-country    object\n",
       "salary            object\n",
       "dtype: object"
      ]
     },
     "execution_count": 20,
     "metadata": {},
     "output_type": "execute_result"
    }
   ],
   "source": [
    "df.dtypes"
   ]
  },
  {
   "cell_type": "markdown",
   "metadata": {},
   "source": [
    "Разделяем признаки на вещественные и категориальные"
   ]
  },
  {
   "cell_type": "code",
   "execution_count": 21,
   "metadata": {},
   "outputs": [],
   "source": [
    "real_features = ['age', 'fnlwgt','education-num', 'capital-gain', 'capital-loss', 'hours-per-week']\n",
    "cat_features = df.columns.drop(real_features).drop(['salary']).tolist()\n"
   ]
  },
  {
   "cell_type": "markdown",
   "metadata": {},
   "source": [
    "Изучаем свойства признаков"
   ]
  },
  {
   "cell_type": "code",
   "execution_count": 22,
   "metadata": {},
   "outputs": [
    {
     "data": {
      "text/html": [
       "<div>\n",
       "<style scoped>\n",
       "    .dataframe tbody tr th:only-of-type {\n",
       "        vertical-align: middle;\n",
       "    }\n",
       "\n",
       "    .dataframe tbody tr th {\n",
       "        vertical-align: top;\n",
       "    }\n",
       "\n",
       "    .dataframe thead th {\n",
       "        text-align: right;\n",
       "    }\n",
       "</style>\n",
       "<table border=\"1\" class=\"dataframe\">\n",
       "  <thead>\n",
       "    <tr style=\"text-align: right;\">\n",
       "      <th></th>\n",
       "      <th>age</th>\n",
       "      <th>fnlwgt</th>\n",
       "      <th>education-num</th>\n",
       "      <th>capital-gain</th>\n",
       "      <th>capital-loss</th>\n",
       "      <th>hours-per-week</th>\n",
       "    </tr>\n",
       "  </thead>\n",
       "  <tbody>\n",
       "    <tr>\n",
       "      <td>count</td>\n",
       "      <td>32561.000000</td>\n",
       "      <td>3.256100e+04</td>\n",
       "      <td>32561.000000</td>\n",
       "      <td>32561.000000</td>\n",
       "      <td>32561.000000</td>\n",
       "      <td>32561.000000</td>\n",
       "    </tr>\n",
       "    <tr>\n",
       "      <td>mean</td>\n",
       "      <td>38.581647</td>\n",
       "      <td>1.897784e+05</td>\n",
       "      <td>10.080679</td>\n",
       "      <td>1077.648844</td>\n",
       "      <td>87.303830</td>\n",
       "      <td>40.437456</td>\n",
       "    </tr>\n",
       "    <tr>\n",
       "      <td>std</td>\n",
       "      <td>13.640433</td>\n",
       "      <td>1.055500e+05</td>\n",
       "      <td>2.572720</td>\n",
       "      <td>7385.292085</td>\n",
       "      <td>402.960219</td>\n",
       "      <td>12.347429</td>\n",
       "    </tr>\n",
       "    <tr>\n",
       "      <td>min</td>\n",
       "      <td>17.000000</td>\n",
       "      <td>1.228500e+04</td>\n",
       "      <td>1.000000</td>\n",
       "      <td>0.000000</td>\n",
       "      <td>0.000000</td>\n",
       "      <td>1.000000</td>\n",
       "    </tr>\n",
       "    <tr>\n",
       "      <td>25%</td>\n",
       "      <td>28.000000</td>\n",
       "      <td>1.178270e+05</td>\n",
       "      <td>9.000000</td>\n",
       "      <td>0.000000</td>\n",
       "      <td>0.000000</td>\n",
       "      <td>40.000000</td>\n",
       "    </tr>\n",
       "    <tr>\n",
       "      <td>50%</td>\n",
       "      <td>37.000000</td>\n",
       "      <td>1.783560e+05</td>\n",
       "      <td>10.000000</td>\n",
       "      <td>0.000000</td>\n",
       "      <td>0.000000</td>\n",
       "      <td>40.000000</td>\n",
       "    </tr>\n",
       "    <tr>\n",
       "      <td>75%</td>\n",
       "      <td>48.000000</td>\n",
       "      <td>2.370510e+05</td>\n",
       "      <td>12.000000</td>\n",
       "      <td>0.000000</td>\n",
       "      <td>0.000000</td>\n",
       "      <td>45.000000</td>\n",
       "    </tr>\n",
       "    <tr>\n",
       "      <td>max</td>\n",
       "      <td>90.000000</td>\n",
       "      <td>1.484705e+06</td>\n",
       "      <td>16.000000</td>\n",
       "      <td>99999.000000</td>\n",
       "      <td>4356.000000</td>\n",
       "      <td>99.000000</td>\n",
       "    </tr>\n",
       "  </tbody>\n",
       "</table>\n",
       "</div>"
      ],
      "text/plain": [
       "                age        fnlwgt  education-num  capital-gain  capital-loss  \\\n",
       "count  32561.000000  3.256100e+04   32561.000000  32561.000000  32561.000000   \n",
       "mean      38.581647  1.897784e+05      10.080679   1077.648844     87.303830   \n",
       "std       13.640433  1.055500e+05       2.572720   7385.292085    402.960219   \n",
       "min       17.000000  1.228500e+04       1.000000      0.000000      0.000000   \n",
       "25%       28.000000  1.178270e+05       9.000000      0.000000      0.000000   \n",
       "50%       37.000000  1.783560e+05      10.000000      0.000000      0.000000   \n",
       "75%       48.000000  2.370510e+05      12.000000      0.000000      0.000000   \n",
       "max       90.000000  1.484705e+06      16.000000  99999.000000   4356.000000   \n",
       "\n",
       "       hours-per-week  \n",
       "count    32561.000000  \n",
       "mean        40.437456  \n",
       "std         12.347429  \n",
       "min          1.000000  \n",
       "25%         40.000000  \n",
       "50%         40.000000  \n",
       "75%         45.000000  \n",
       "max         99.000000  "
      ]
     },
     "execution_count": 22,
     "metadata": {},
     "output_type": "execute_result"
    }
   ],
   "source": [
    "df[real_features].describe()"
   ]
  },
  {
   "cell_type": "code",
   "execution_count": 23,
   "metadata": {},
   "outputs": [
    {
     "data": {
      "text/plain": [
       "array([[<matplotlib.axes._subplots.AxesSubplot object at 0x000001ECF7793608>,\n",
       "        <matplotlib.axes._subplots.AxesSubplot object at 0x000001ECFCEB8E88>],\n",
       "       [<matplotlib.axes._subplots.AxesSubplot object at 0x000001ECFD283E48>,\n",
       "        <matplotlib.axes._subplots.AxesSubplot object at 0x000001ECFD2BBF08>],\n",
       "       [<matplotlib.axes._subplots.AxesSubplot object at 0x000001ECFD2F7088>,\n",
       "        <matplotlib.axes._subplots.AxesSubplot object at 0x000001ECFD32E188>]],\n",
       "      dtype=object)"
      ]
     },
     "execution_count": 23,
     "metadata": {},
     "output_type": "execute_result"
    }
   ],
   "source": [
    "df[real_features].hist(grid=True,figsize=(20,20), bins=100)"
   ]
  },
  {
   "cell_type": "code",
   "execution_count": 24,
   "metadata": {
    "scrolled": true
   },
   "outputs": [
    {
     "data": {
      "text/html": [
       "<div>\n",
       "<style scoped>\n",
       "    .dataframe tbody tr th:only-of-type {\n",
       "        vertical-align: middle;\n",
       "    }\n",
       "\n",
       "    .dataframe tbody tr th {\n",
       "        vertical-align: top;\n",
       "    }\n",
       "\n",
       "    .dataframe thead th {\n",
       "        text-align: right;\n",
       "    }\n",
       "</style>\n",
       "<table border=\"1\" class=\"dataframe\">\n",
       "  <thead>\n",
       "    <tr style=\"text-align: right;\">\n",
       "      <th></th>\n",
       "      <th>age</th>\n",
       "      <th>fnlwgt</th>\n",
       "      <th>education-num</th>\n",
       "      <th>capital-gain</th>\n",
       "      <th>capital-loss</th>\n",
       "      <th>hours-per-week</th>\n",
       "    </tr>\n",
       "  </thead>\n",
       "  <tbody>\n",
       "    <tr>\n",
       "      <td>age</td>\n",
       "      <td>1.000000</td>\n",
       "      <td>-0.076646</td>\n",
       "      <td>0.036527</td>\n",
       "      <td>0.077674</td>\n",
       "      <td>0.057775</td>\n",
       "      <td>0.068756</td>\n",
       "    </tr>\n",
       "    <tr>\n",
       "      <td>fnlwgt</td>\n",
       "      <td>-0.076646</td>\n",
       "      <td>1.000000</td>\n",
       "      <td>-0.043195</td>\n",
       "      <td>0.000432</td>\n",
       "      <td>-0.010252</td>\n",
       "      <td>-0.018768</td>\n",
       "    </tr>\n",
       "    <tr>\n",
       "      <td>education-num</td>\n",
       "      <td>0.036527</td>\n",
       "      <td>-0.043195</td>\n",
       "      <td>1.000000</td>\n",
       "      <td>0.122630</td>\n",
       "      <td>0.079923</td>\n",
       "      <td>0.148123</td>\n",
       "    </tr>\n",
       "    <tr>\n",
       "      <td>capital-gain</td>\n",
       "      <td>0.077674</td>\n",
       "      <td>0.000432</td>\n",
       "      <td>0.122630</td>\n",
       "      <td>1.000000</td>\n",
       "      <td>-0.031615</td>\n",
       "      <td>0.078409</td>\n",
       "    </tr>\n",
       "    <tr>\n",
       "      <td>capital-loss</td>\n",
       "      <td>0.057775</td>\n",
       "      <td>-0.010252</td>\n",
       "      <td>0.079923</td>\n",
       "      <td>-0.031615</td>\n",
       "      <td>1.000000</td>\n",
       "      <td>0.054256</td>\n",
       "    </tr>\n",
       "    <tr>\n",
       "      <td>hours-per-week</td>\n",
       "      <td>0.068756</td>\n",
       "      <td>-0.018768</td>\n",
       "      <td>0.148123</td>\n",
       "      <td>0.078409</td>\n",
       "      <td>0.054256</td>\n",
       "      <td>1.000000</td>\n",
       "    </tr>\n",
       "  </tbody>\n",
       "</table>\n",
       "</div>"
      ],
      "text/plain": [
       "                     age    fnlwgt  education-num  capital-gain  capital-loss  \\\n",
       "age             1.000000 -0.076646       0.036527      0.077674      0.057775   \n",
       "fnlwgt         -0.076646  1.000000      -0.043195      0.000432     -0.010252   \n",
       "education-num   0.036527 -0.043195       1.000000      0.122630      0.079923   \n",
       "capital-gain    0.077674  0.000432       0.122630      1.000000     -0.031615   \n",
       "capital-loss    0.057775 -0.010252       0.079923     -0.031615      1.000000   \n",
       "hours-per-week  0.068756 -0.018768       0.148123      0.078409      0.054256   \n",
       "\n",
       "                hours-per-week  \n",
       "age                   0.068756  \n",
       "fnlwgt               -0.018768  \n",
       "education-num         0.148123  \n",
       "capital-gain          0.078409  \n",
       "capital-loss          0.054256  \n",
       "hours-per-week        1.000000  "
      ]
     },
     "execution_count": 24,
     "metadata": {},
     "output_type": "execute_result"
    }
   ],
   "source": [
    "df[real_features].corr()"
   ]
  },
  {
   "cell_type": "code",
   "execution_count": 25,
   "metadata": {
    "scrolled": true
   },
   "outputs": [
    {
     "data": {
      "text/html": [
       "<div>\n",
       "<style scoped>\n",
       "    .dataframe tbody tr th:only-of-type {\n",
       "        vertical-align: middle;\n",
       "    }\n",
       "\n",
       "    .dataframe tbody tr th {\n",
       "        vertical-align: top;\n",
       "    }\n",
       "\n",
       "    .dataframe thead th {\n",
       "        text-align: right;\n",
       "    }\n",
       "</style>\n",
       "<table border=\"1\" class=\"dataframe\">\n",
       "  <thead>\n",
       "    <tr style=\"text-align: right;\">\n",
       "      <th></th>\n",
       "      <th>workclass</th>\n",
       "      <th>education</th>\n",
       "      <th>marital-status</th>\n",
       "      <th>occupation</th>\n",
       "      <th>relationship</th>\n",
       "      <th>race</th>\n",
       "      <th>sex</th>\n",
       "      <th>native-country</th>\n",
       "    </tr>\n",
       "  </thead>\n",
       "  <tbody>\n",
       "    <tr>\n",
       "      <td>count</td>\n",
       "      <td>32561</td>\n",
       "      <td>32561</td>\n",
       "      <td>32561</td>\n",
       "      <td>32561</td>\n",
       "      <td>32561</td>\n",
       "      <td>32561</td>\n",
       "      <td>32561</td>\n",
       "      <td>32561</td>\n",
       "    </tr>\n",
       "    <tr>\n",
       "      <td>unique</td>\n",
       "      <td>9</td>\n",
       "      <td>16</td>\n",
       "      <td>7</td>\n",
       "      <td>15</td>\n",
       "      <td>6</td>\n",
       "      <td>5</td>\n",
       "      <td>2</td>\n",
       "      <td>42</td>\n",
       "    </tr>\n",
       "    <tr>\n",
       "      <td>top</td>\n",
       "      <td>Private</td>\n",
       "      <td>HS-grad</td>\n",
       "      <td>Married-civ-spouse</td>\n",
       "      <td>Prof-specialty</td>\n",
       "      <td>Husband</td>\n",
       "      <td>White</td>\n",
       "      <td>Male</td>\n",
       "      <td>United-States</td>\n",
       "    </tr>\n",
       "    <tr>\n",
       "      <td>freq</td>\n",
       "      <td>22696</td>\n",
       "      <td>10501</td>\n",
       "      <td>14976</td>\n",
       "      <td>4140</td>\n",
       "      <td>13193</td>\n",
       "      <td>27816</td>\n",
       "      <td>21790</td>\n",
       "      <td>29170</td>\n",
       "    </tr>\n",
       "  </tbody>\n",
       "</table>\n",
       "</div>"
      ],
      "text/plain": [
       "       workclass education       marital-status       occupation relationship  \\\n",
       "count      32561     32561                32561            32561        32561   \n",
       "unique         9        16                    7               15            6   \n",
       "top      Private   HS-grad   Married-civ-spouse   Prof-specialty      Husband   \n",
       "freq       22696     10501                14976             4140        13193   \n",
       "\n",
       "          race    sex  native-country  \n",
       "count    32561  32561           32561  \n",
       "unique       5      2              42  \n",
       "top      White   Male   United-States  \n",
       "freq     27816  21790           29170  "
      ]
     },
     "execution_count": 25,
     "metadata": {},
     "output_type": "execute_result"
    }
   ],
   "source": [
    "df[cat_features].describe()"
   ]
  },
  {
   "cell_type": "markdown",
   "metadata": {},
   "source": [
    "Импортируем необходимые библиотеки"
   ]
  },
  {
   "cell_type": "code",
   "execution_count": 26,
   "metadata": {},
   "outputs": [],
   "source": [
    "from sklearn.feature_extraction import DictVectorizer as DV\n",
    "from sklearn.preprocessing import StandardScaler\n",
    "from sklearn.model_selection import train_test_split\n",
    "import matplotlib\n",
    "from matplotlib import pyplot as plt\n",
    "matplotlib.style.use('ggplot')\n",
    "%matplotlib inline\n"
   ]
  },
  {
   "cell_type": "markdown",
   "metadata": {},
   "source": [
    "Разделяем датасет на выборку X и целевой признак y, учитывая real_features и cat_features"
   ]
  },
  {
   "cell_type": "code",
   "execution_count": 27,
   "metadata": {},
   "outputs": [],
   "source": [
    "X_real = df[real_features]\n",
    "X_cat = df[cat_features]\n",
    "y = df['salary']"
   ]
  },
  {
   "cell_type": "markdown",
   "metadata": {},
   "source": [
    "Преобразуем категориальные признаки"
   ]
  },
  {
   "cell_type": "code",
   "execution_count": 28,
   "metadata": {},
   "outputs": [
    {
     "name": "stdout",
     "output_type": "stream",
     "text": [
      "(32561, 102)\n"
     ]
    }
   ],
   "source": [
    "encoder = DV(sparse = False)\n",
    "X_cat_oh = encoder.fit_transform(X_cat.T.to_dict().values())\n",
    "print(X_cat_oh.shape)"
   ]
  },
  {
   "cell_type": "markdown",
   "metadata": {},
   "source": [
    "Делим выборку и целевой признак на тренировочную и тестовую части"
   ]
  },
  {
   "cell_type": "code",
   "execution_count": 29,
   "metadata": {},
   "outputs": [],
   "source": [
    "(X_train_real, \n",
    " X_test_real, \n",
    " y_train, y_test) = train_test_split(X_real, y, \n",
    "                                     test_size=0.3, \n",
    "                                     random_state=0)\n",
    "\n",
    "(X_train_cat_oh,\n",
    " X_test_cat_oh) = train_test_split(X_cat_oh, \n",
    "                                   test_size=0.3, \n",
    "                                   random_state=0)"
   ]
  },
  {
   "cell_type": "markdown",
   "metadata": {},
   "source": [
    "### Модель 1"
   ]
  },
  {
   "cell_type": "code",
   "execution_count": 30,
   "metadata": {
    "scrolled": true
   },
   "outputs": [
    {
     "data": {
      "image/png": "[encoded data removed]",
      "text/plain": [
       "<Figure size 432x288 with 1 Axes>"
      ]
     },
     "metadata": {
      "needs_background": "light"
     },
     "output_type": "display_data"
    },
    {
     "name": "stdout",
     "output_type": "stream",
     "text": [
      "LogisticRegression(C=5, class_weight=None, dual=False, fit_intercept=True,\n",
      "                   intercept_scaling=1, l1_ratio=None, max_iter=100,\n",
      "                   multi_class='warn', n_jobs=None, penalty='l2',\n",
      "                   random_state=None, solver='liblinear', tol=0.0001, verbose=0,\n",
      "                   warm_start=False)\n",
      "{'C': 5}\n",
      "0.5780972801090851\n"
     ]
    }
   ],
   "source": [
    "from sklearn.linear_model import LogisticRegression\n",
    "from sklearn.model_selection import GridSearchCV\n",
    "from sklearn.metrics import roc_auc_score\n",
    "\n",
    "def plot_scores(optimizer):\n",
    "    scores=[]\n",
    "    for i in range(len(optimizer.cv_results_['params'])):\n",
    "        scores.append([optimizer.cv_results_['params'][i]['C'], \n",
    "                optimizer.cv_results_['mean_test_score'][i],\n",
    "                optimizer.cv_results_['std_test_score'][i]])\n",
    "    scores = np.array(scores)\n",
    "    plt.semilogx(scores[:,0], scores[:,1])\n",
    "    plt.fill_between(scores[:,0], scores[:,1]-scores[:,2], \n",
    "                                  scores[:,1]+scores[:,2], alpha=0.3)\n",
    "    plt.show()\n",
    "\n",
    "param_grid = {'C': [0.01, 0.05, 0.1, 0.5, 1, 5, 10]}\n",
    "cv = 3\n",
    "\n",
    "X0 = np.hstack((X_train_real,X_train_cat_oh))\n",
    "X0t = np.hstack((X_test_real,X_test_cat_oh))\n",
    "\n",
    "estimator = LogisticRegression(solver ='liblinear')\n",
    "optimizer = GridSearchCV(estimator, param_grid, cv=cv)\n",
    "\n",
    "optimizer.fit(X0, y_train)\n",
    "plot_scores(optimizer)\n",
    "print(optimizer.best_estimator_)\n",
    "print(optimizer.best_params_)\n",
    "\n",
    "print(roc_auc_score(y_test, optimizer.best_estimator_.predict_proba(X0t)[:,1]))"
   ]
  },
  {
   "cell_type": "markdown",
   "metadata": {},
   "source": [
    "### Попробуем отмасштабировать вещественные признаки"
   ]
  },
  {
   "cell_type": "code",
   "execution_count": 31,
   "metadata": {},
   "outputs": [],
   "source": [
    "# let's scale real features\n",
    "scaler = StandardScaler()\n",
    "scaler.fit(X_train_real, y_train)\n",
    "X_train_real_scaled = scaler.transform(X_train_real)\n",
    "X_test_real_scaled = scaler.transform(X_test_real)"
   ]
  },
  {
   "cell_type": "markdown",
   "metadata": {},
   "source": [
    "### Модель 2 (признаки имеют одинаковый масштаб)"
   ]
  },
  {
   "cell_type": "code",
   "execution_count": 32,
   "metadata": {
    "scrolled": true
   },
   "outputs": [
    {
     "data": {
      "image/png": "[encoded data removed]",
      "text/plain": [
       "<Figure size 432x288 with 1 Axes>"
      ]
     },
     "metadata": {
      "needs_background": "light"
     },
     "output_type": "display_data"
    },
    {
     "name": "stdout",
     "output_type": "stream",
     "text": [
      "LogisticRegression(C=1, class_weight=None, dual=False, fit_intercept=True,\n",
      "                   intercept_scaling=1, l1_ratio=None, max_iter=100,\n",
      "                   multi_class='warn', n_jobs=None, penalty='l2',\n",
      "                   random_state=None, solver='warn', tol=0.0001, verbose=0,\n",
      "                   warm_start=False)\n",
      "{'C': 1}\n",
      "0.9067470218059284\n"
     ]
    }
   ],
   "source": [
    "Xs = np.hstack((X_train_real_scaled,X_train_cat_oh))\n",
    "Xst = np.hstack((X_test_real_scaled,X_test_cat_oh))\n",
    "\n",
    "estimator = LogisticRegression()\n",
    "optimizer = GridSearchCV(estimator, param_grid, cv=cv)\n",
    "ps = optimizer.fit(Xs, y_train)\n",
    "plot_scores(ps)\n",
    "print(ps.best_estimator_)\n",
    "print(ps.best_params_)\n",
    "\n",
    "print(roc_auc_score(y_test, ps.predict_proba(Xst)[:,1]))"
   ]
  },
  {
   "cell_type": "markdown",
   "metadata": {},
   "source": [
    "### Попробуем сбалансировать классы"
   ]
  },
  {
   "cell_type": "code",
   "execution_count": 33,
   "metadata": {},
   "outputs": [
    {
     "name": "stdout",
     "output_type": "stream",
     "text": [
      "17313\n",
      "5479\n"
     ]
    }
   ],
   "source": [
    "# make classes balanced\n",
    "print(np.sum(y_train==' <=50K'))\n",
    "print(np.sum(y_train==' >50K'))"
   ]
  },
  {
   "cell_type": "markdown",
   "metadata": {},
   "source": [
    "### Модель 3 со сбалансированными весами и Модель 4 со сбалансированной выборкой"
   ]
  },
  {
   "cell_type": "code",
   "execution_count": 34,
   "metadata": {
    "scrolled": true
   },
   "outputs": [
    {
     "data": {
      "image/png": "[encoded data removed]",
      "text/plain": [
       "<Figure size 432x288 with 1 Axes>"
      ]
     },
     "metadata": {
      "needs_background": "light"
     },
     "output_type": "display_data"
    },
    {
     "name": "stdout",
     "output_type": "stream",
     "text": [
      "LogisticRegression(C=10, class_weight='balanced', dual=False,\n",
      "                   fit_intercept=True, intercept_scaling=1, l1_ratio=None,\n",
      "                   max_iter=100, multi_class='warn', n_jobs=None, penalty='l2',\n",
      "                   random_state=None, solver='warn', tol=0.0001, verbose=0,\n",
      "                   warm_start=False)\n",
      "{'C': 10}\n",
      "AUC: 0.906571\n"
     ]
    },
    {
     "data": {
      "image/png": "[encoded data removed]",
      "text/plain": [
       "<Figure size 432x288 with 1 Axes>"
      ]
     },
     "metadata": {
      "needs_background": "light"
     },
     "output_type": "display_data"
    },
    {
     "name": "stdout",
     "output_type": "stream",
     "text": [
      "LogisticRegression(C=1, class_weight=None, dual=False, fit_intercept=True,\n",
      "                   intercept_scaling=1, l1_ratio=None, max_iter=100,\n",
      "                   multi_class='warn', n_jobs=None, penalty='l2',\n",
      "                   random_state=None, solver='warn', tol=0.0001, verbose=0,\n",
      "                   warm_start=False)\n",
      "{'C': 1}\n",
      "AUC: 0.906747\n"
     ]
    }
   ],
   "source": [
    "#Model 3\n",
    "# balanced weights\n",
    "optimizer = GridSearchCV(LogisticRegression(class_weight='balanced'), param_grid, cv=cv, n_jobs=-1)\n",
    "optimizer.fit(Xs, y_train)\n",
    "plot_scores(optimizer)\n",
    "print(optimizer.best_estimator_)\n",
    "print(optimizer.best_params_)\n",
    "auc_w_class_weights_bw = roc_auc_score(y_test, optimizer.predict_proba(Xst)[:,1])\n",
    "print('AUC: %f'%auc_w_class_weights_bw)\n",
    "\n",
    "#Model 4\n",
    "# balanced number of objects of each class\n",
    "np.random.seed(0)\n",
    "indices_to_add = np.random.randint(np.sum(y_train==1),size=(np.sum(y_train==0)-np.sum(y_train==1)))\n",
    "X_train_to_add = X_train_real_scaled[y_train.as_matrix() == 1,:][indices_to_add,:]\n",
    "X_train_real_scaled_samp=np.vstack((X_train_real_scaled, X_train_to_add))\n",
    "y_train_to_add = y_train[y_train == 1][indices_to_add]\n",
    "y_train_to_add = y_train_to_add.fillna(1)\n",
    "y_train_bal = np.hstack((y_train, y_train_to_add))\n",
    "X_train_cat_oh_add = X_train_cat_oh[y_train.as_matrix() == 1,:][indices_to_add,:]\n",
    "X_train_cat_oh_sam = np.vstack((X_train_cat_oh, X_train_cat_oh_add))\n",
    "\n",
    "X_scaled_bal = np.hstack((X_train_real_scaled_samp,X_train_cat_oh_sam))\n",
    "\n",
    "opt = GridSearchCV(LogisticRegression(), param_grid, cv=cv, n_jobs=-1)\n",
    "opt.fit(X_scaled_bal, y_train_bal)\n",
    "plot_scores(opt)\n",
    "print(opt.best_estimator_)\n",
    "print(opt.best_params_)\n",
    "auc_w_class_weights_bo = roc_auc_score(y_test, opt.predict_proba(Xst)[:,1])\n",
    "print('AUC: %f'%auc_w_class_weights_bo)"
   ]
  },
  {
   "cell_type": "markdown",
   "metadata": {},
   "source": [
    "### Модель 5. Проведем стратификацию выборки  и после отмасштабируем."
   ]
  },
  {
   "cell_type": "code",
   "execution_count": 35,
   "metadata": {
    "scrolled": true
   },
   "outputs": [
    {
     "data": {
      "image/png": "[encoded data removed]",
      "text/plain": [
       "<Figure size 432x288 with 1 Axes>"
      ]
     },
     "metadata": {
      "needs_background": "light"
     },
     "output_type": "display_data"
    },
    {
     "name": "stdout",
     "output_type": "stream",
     "text": [
      "LogisticRegression(C=5, class_weight='balanced', dual=False, fit_intercept=True,\n",
      "                   intercept_scaling=1, l1_ratio=None, max_iter=100,\n",
      "                   multi_class='warn', n_jobs=None, penalty='l2',\n",
      "                   random_state=None, solver='warn', tol=0.0001, verbose=0,\n",
      "                   warm_start=False)\n",
      "{'C': 5}\n",
      "AUC: 0.905317\n"
     ]
    }
   ],
   "source": [
    "(X_train_real, \n",
    " X_test_real, \n",
    " y_train, y_test) = train_test_split(X_real, y, stratify=y, \n",
    "                                     test_size=0.3, \n",
    "                                     random_state=0)\n",
    "(X_train_cat_oh,\n",
    " X_test_cat_oh) = train_test_split(X_cat_oh, stratify=y,\n",
    "                                   test_size=0.3, \n",
    "                                   random_state=0)\n",
    "\n",
    "scaler = StandardScaler()\n",
    "scaler.fit(X_train_real, y_train)\n",
    "X_train_real_scaled = scaler.transform(X_train_real)\n",
    "X_test_real_scaled = scaler.transform(X_test_real)\n",
    "\n",
    "Xs = np.hstack((X_train_real_scaled,X_train_cat_oh))\n",
    "Xst = np.hstack((X_test_real_scaled,X_test_cat_oh))\n",
    "\n",
    "optimizer = GridSearchCV(LogisticRegression(class_weight='balanced'), param_grid, cv=cv, n_jobs=-1)\n",
    "optimizer.fit(Xs, y_train)\n",
    "plot_scores(optimizer)\n",
    "print(optimizer.best_estimator_)\n",
    "print(optimizer.best_params_)\n",
    "auc_w_class_weights_strat = roc_auc_score(y_test, optimizer.predict_proba(Xst)[:,1])\n",
    "print('AUC: %f'%auc_w_class_weights_strat)"
   ]
  },
  {
   "cell_type": "markdown",
   "metadata": {},
   "source": [
    "### Модель 6. Попробуем использовать полиномиальное преобразование признаков. "
   ]
  },
  {
   "cell_type": "code",
   "execution_count": 36,
   "metadata": {},
   "outputs": [
    {
     "data": {
      "image/png": "[encoded data removed]",
      "text/plain": [
       "<Figure size 432x288 with 1 Axes>"
      ]
     },
     "metadata": {
      "needs_background": "light"
     },
     "output_type": "display_data"
    },
    {
     "name": "stdout",
     "output_type": "stream",
     "text": [
      "LogisticRegression(C=0.5, class_weight='balanced', dual=False,\n",
      "                   fit_intercept=False, intercept_scaling=1, l1_ratio=None,\n",
      "                   max_iter=100, multi_class='warn', n_jobs=None, penalty='l2',\n",
      "                   random_state=None, solver='warn', tol=0.0001, verbose=0,\n",
      "                   warm_start=False)\n",
      "{'C': 0.5}\n",
      "AUC: 0.910951\n"
     ]
    }
   ],
   "source": [
    "from sklearn.preprocessing import PolynomialFeatures\n",
    "transform = PolynomialFeatures(2)\n",
    "\n",
    "(X_train_real, \n",
    " X_test_real, \n",
    " y_train, y_test) = train_test_split(X_real, y, stratify=y, \n",
    "                                     test_size=0.3, \n",
    "                                     random_state=0)\n",
    "(X_train_cat_oh,\n",
    " X_test_cat_oh) = train_test_split(X_cat_oh, stratify=y,\n",
    "                                   test_size=0.3, \n",
    "                                   random_state=0)\n",
    "\n",
    "scaler = StandardScaler()\n",
    "scaler.fit(X_train_real, y_train)\n",
    "X_train_real_scaled = scaler.transform(X_train_real)\n",
    "X_test_real_scaled = scaler.transform(X_test_real)\n",
    "\n",
    "X_train_real_scaled = transform.fit_transform(X_train_real_scaled)\n",
    "X_test_real_scaled = transform.transform(X_test_real_scaled)\n",
    "Xs = np.hstack((X_train_real_scaled,X_train_cat_oh))\n",
    "Xst = np.hstack((X_test_real_scaled,X_test_cat_oh))\n",
    "\n",
    "\n",
    "optimizer = GridSearchCV(LogisticRegression(class_weight='balanced', fit_intercept=False), param_grid, cv=cv, n_jobs=-1)\n",
    "optimizer.fit(Xs, y_train)\n",
    "\n",
    "plot_scores(optimizer)\n",
    "print(optimizer.best_estimator_)\n",
    "print(optimizer.best_params_)\n",
    "auc_w_class_weights_pol = roc_auc_score(y_test, optimizer.predict_proba(Xst)[:,1])\n",
    "print('AUC: %f'%auc_w_class_weights_pol)\n"
   ]
  },
  {
   "cell_type": "markdown",
   "metadata": {},
   "source": [
    "### Большее значение Accuracy (~0.852) было достигнуто при Модели 2 и Модели 4. Однако в сбалансированной выборке (Модель 4) результат будет более корректным в виду рассмотрения датасета с одинаковым объемом обоих классов. Roc_Auc у всех моделей, кроме 1 был достаточно высок, что позволяет удостовериться в хорошем качестве построенных моделей."
   ]
  },
  {
   "cell_type": "code",
   "execution_count": null,
   "metadata": {},
   "outputs": [],
   "source": []
  }
 ],
 "metadata": {
  "kernelspec": {
   "display_name": "Python 3",
   "language": "python",
   "name": "python3"
  },
  "language_info": {
   "codemirror_mode": {
    "name": "ipython",
    "version": 3
   },
   "file_extension": ".py",
   "mimetype": "text/x-python",
   "name": "python",
   "nbconvert_exporter": "python",
   "pygments_lexer": "ipython3",
   "version": "3.7.4"
  }
 },
 "nbformat": 4,
 "nbformat_minor": 4
}
